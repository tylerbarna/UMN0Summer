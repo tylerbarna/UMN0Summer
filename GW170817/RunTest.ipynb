{
 "cells": [
  {
   "cell_type": "code",
   "execution_count": 13,
   "id": "hindu-subsection",
   "metadata": {},
   "outputs": [
    {
     "name": "stdout",
     "output_type": "stream",
     "text": [
      "Anaconda3-2021.05-Linux-x86_64.sh  anaconda3\n",
      "UMN0Summer\t\t\t   jupyterhub_slurmspawner_4408846.log\n",
      "Untitled.ipynb\t\t\t   jupyterhub_slurmspawner_4424501.log\n"
     ]
    }
   ],
   "source": [
    "!cd ./UMN0Summer/GW170817/\n",
    "!ls"
   ]
  },
  {
   "cell_type": "code",
   "execution_count": null,
   "id": "requested-audit",
   "metadata": {},
   "outputs": [],
   "source": []
  }
 ],
 "metadata": {
  "kernelspec": {
   "display_name": "Python 3.7.1",
   "language": "python",
   "name": "python3"
  },
  "language_info": {
   "codemirror_mode": {
    "name": "ipython",
    "version": 3
   },
   "file_extension": ".py",
   "mimetype": "text/x-python",
   "name": "python",
   "nbconvert_exporter": "python",
   "pygments_lexer": "ipython3",
   "version": "3.7.1"
  }
 },
 "nbformat": 4,
 "nbformat_minor": 5
}
